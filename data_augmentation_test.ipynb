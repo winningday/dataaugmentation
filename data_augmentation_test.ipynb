{
 "cells": [
  {
   "cell_type": "markdown",
   "metadata": {},
   "source": [
    "# Data Augmentation Test\n",
    "\n",
    "Explanation of Data Augmentation:\n",
    "1. Data Augmentation Function: Introduce small random noise to the existing data to create new samples.\n",
    "2. Combine Original and Augmented Data: Merge the original data with the augmented data.\n",
    "3. Re-train the Autoencoder: Train the autoencoder with the combined dataset to improve its ability to generate realistic synthetic data.\n",
    "\n",
    "These approaches should help create more realistic synthetic data even with limited real-world data."
   ]
  },
  {
   "cell_type": "code",
   "execution_count": null,
   "metadata": {},
   "outputs": [],
   "source": [
    "# Data augmentation function\n",
    "def augment_data(data, noise_factor=0.1):\n",
    "    augmented_data = data + noise_factor * np.random.normal(size=data.shape)\n",
    "    return augmented_data"
   ]
  },
  {
   "cell_type": "code",
   "execution_count": null,
   "metadata": {},
   "outputs": [],
   "source": [
    "# Augment the existing data\n",
    "augmented_data = augment_data(real_data, noise_factor=0.05)"
   ]
  },
  {
   "cell_type": "code",
   "execution_count": null,
   "metadata": {},
   "outputs": [],
   "source": [
    "# Combine original and augmented data\n",
    "combined_data = np.vstack([real_data, augmented_data])"
   ]
  },
  {
   "cell_type": "code",
   "execution_count": null,
   "metadata": {},
   "outputs": [],
   "source": [
    "# Re-train the autoencoder with augmented data\n",
    "autoencoder.fit(combined_data, combined_data, epochs=1000, batch_size=4, shuffle=True, verbose=0)"
   ]
  },
  {
   "cell_type": "code",
   "execution_count": null,
   "metadata": {},
   "outputs": [],
   "source": [
    "# Generate synthetic data\n",
    "encoded_data = np.random.normal(size=(1000, encoding_dim))  # Sample from the latent space\n",
    "synthetic_data = autoencoder.predict(encoded_data)\n",
    "synthetic_data = synthetic_data * combined_data.std(axis=0) + combined_data.mean(axis=0)  # De-normalize the data"
   ]
  },
  {
   "cell_type": "code",
   "execution_count": null,
   "metadata": {},
   "outputs": [],
   "source": [
    "# Create a DataFrame\n",
    "synthetic_data_df = pd.DataFrame(synthetic_data, columns=['Age', 'Income', 'Education Level'])"
   ]
  },
  {
   "cell_type": "code",
   "execution_count": null,
   "metadata": {},
   "outputs": [],
   "source": [
    "# Display the synthetic data\n",
    "print(synthetic_data_df.head())"
   ]
  },
  {
   "cell_type": "code",
   "execution_count": null,
   "metadata": {},
   "outputs": [],
   "source": [
    "# Optionally save to a CSV file\n",
    "synthetic_data_df.to_csv('synthetic_data.csv', index=False)"
   ]
  }
 ],
 "metadata": {
  "language_info": {
   "name": "python"
  }
 },
 "nbformat": 4,
 "nbformat_minor": 2
}
